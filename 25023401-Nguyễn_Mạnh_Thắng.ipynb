{
 "cells": [
  {
   "cell_type": "code",
   "execution_count": 1,
   "id": "9523b45c",
   "metadata": {},
   "outputs": [
    {
     "name": "stdout",
     "output_type": "stream",
     "text": [
      "trước khi đổi:a= 1 ,b= 2\n",
      "sau khi hoán đổi:a= 2 ,b= 1\n"
     ]
    }
   ],
   "source": [
    "#W3A2\n",
    "a = int(input(\"nhập số a\"))\n",
    "b = int(input(\"nhập số b\"))\n",
    "print(\"trước khi đổi:\" \"a=\", a,\",b=\", b)\n",
    "a = a^b\n",
    "b=a^b\n",
    "a=a^b\n",
    "print(\"sau khi hoán đổi:a=\", a, \",b=\",b)"
   ]
  },
  {
   "cell_type": "code",
   "execution_count": 2,
   "id": "c45e418c",
   "metadata": {},
   "outputs": [
    {
     "name": "stdout",
     "output_type": "stream",
     "text": [
      "là lũy thừa của 2\n"
     ]
    }
   ],
   "source": [
    "#W3A3\n",
    "a=int(input(\"nhập số a\"))\n",
    "if a&(a-1)==0:\n",
    "    print(\"là lũy thừa của 2\")\n",
    "else:\n",
    "    print(\"không phải lũy thừa của 2\")"
   ]
  },
  {
   "cell_type": "code",
   "execution_count": 3,
   "id": "d6a60acf",
   "metadata": {},
   "outputs": [
    {
     "name": "stdout",
     "output_type": "stream",
     "text": [
      "2\n"
     ]
    }
   ],
   "source": [
    "#W3A4\n",
    "m=int(input(\"nhập số đầu:\"))\n",
    "n=int(input(\"nhập số sau:\"))\n",
    "print(m//n)"
   ]
  },
  {
   "cell_type": "code",
   "execution_count": 4,
   "id": "9e5152a6",
   "metadata": {},
   "outputs": [
    {
     "name": "stdout",
     "output_type": "stream",
     "text": [
      "0\n"
     ]
    }
   ],
   "source": [
    "#W3A5\n",
    "m = int(input(\"Nhập số m: \"))\n",
    "n = int(input(\"Nhập số n: \"))\n",
    "print(m%n)\n"
   ]
  },
  {
   "cell_type": "code",
   "execution_count": 5,
   "id": "5a7d5bd0",
   "metadata": {},
   "outputs": [
    {
     "name": "stdout",
     "output_type": "stream",
     "text": [
      "Even\n"
     ]
    }
   ],
   "source": [
    "#W3A6\n",
    "x=int(input(\"nhập vào số a:\"))\n",
    "if x%2==0:\n",
    "    print(\"Even\")\n",
    "else:\n",
    "    print('odd')"
   ]
  },
  {
   "cell_type": "code",
   "execution_count": 6,
   "id": "39831909",
   "metadata": {},
   "outputs": [
    {
     "name": "stdout",
     "output_type": "stream",
     "text": [
      "No\n"
     ]
    }
   ],
   "source": [
    "#W3A7\n",
    "a=int(input(\"nhập vào số a:\"))\n",
    "b=int(input(\"nhập vào số b:\"))\n",
    "if a<0 and b<0:\n",
    "    print(\"Yes\")\n",
    "elif a>0 and b>0:\n",
    "    print(\"No\")"
   ]
  },
  {
   "cell_type": "code",
   "execution_count": 7,
   "id": "a36e27c0",
   "metadata": {},
   "outputs": [
    {
     "name": "stdout",
     "output_type": "stream",
     "text": [
      "false\n"
     ]
    }
   ],
   "source": [
    "#W3A8\n",
    "a=input(\"chuỗi a:\")\n",
    "b=input(\"chuỗi b:\")\n",
    "if len(a)>len(b):\n",
    "    print(\"true\")\n",
    "else:\n",
    "    print(\"false\")\n"
   ]
  },
  {
   "cell_type": "code",
   "execution_count": 8,
   "id": "500da0cc",
   "metadata": {},
   "outputs": [
    {
     "name": "stdout",
     "output_type": "stream",
     "text": [
      "No\n"
     ]
    }
   ],
   "source": [
    "#W3A9\n",
    "a=int(input(\"số a:\"))\n",
    "b=int(input(\"số b\"))\n",
    "c=int(input(\"số c:\"))\n",
    "if a**2==b**2+c**2:\n",
    "    print(\"yes\")\n",
    "else:\n",
    "    print(\"No\")"
   ]
  },
  {
   "cell_type": "code",
   "execution_count": 9,
   "id": "b6401061",
   "metadata": {},
   "outputs": [
    {
     "name": "stdout",
     "output_type": "stream",
     "text": [
      "số lớn nhất là: 2\n"
     ]
    }
   ],
   "source": [
    "#W3A10\n",
    "a=int(input(\"số a:\"))\n",
    "b=int(input(\"số b\"))\n",
    "c=int(input(\"số c:\"))\n",
    "d=int(input(\"số d:\"))\n",
    "max=a\n",
    "if b>max:\n",
    "    max=b\n",
    "if c>max:\n",
    "    max=c\n",
    "if d>max:\n",
    "    max=d\n",
    "print(\"số lớn nhất là:\", max)\n"
   ]
  },
  {
   "cell_type": "code",
   "execution_count": 10,
   "id": "65dad9b3",
   "metadata": {},
   "outputs": [
    {
     "name": "stdout",
     "output_type": "stream",
     "text": [
      "no\n"
     ]
    }
   ],
   "source": [
    "#W3A12\n",
    "n = int(input(\"Nhập năm: \"))\n",
    "# Viết code ở đây\n",
    "if n%400 == 0:\n",
    "    print(\"yes\")\n",
    "elif n%100 and n%400 != 0:\n",
    "     print(\"no\")\n",
    "elif n%4 and n%100 != 0:\n",
    "     print('yes')\n",
    "else :\n",
    "     print(\"no\")    \n",
    "\n"
   ]
  },
  {
   "cell_type": "code",
   "execution_count": 11,
   "id": "cc2ea149",
   "metadata": {},
   "outputs": [
    {
     "name": "stdout",
     "output_type": "stream",
     "text": [
      "Không phải tam giác\n"
     ]
    }
   ],
   "source": [
    "#W3A11\n",
    "a = int(input(\"Nhập cạnh a: \"))\n",
    "b = int(input(\"Nhập cạnh b: \"))\n",
    "c = int(input(\"Nhập cạnh c: \"))\n",
    "if a + b <= c or a + c <= b or b + c <= a:\n",
    "    print(\"Không phải tam giác\")\n",
    "else:\n",
    "    if a == b == c:\n",
    "        print(\"Tam giác đều\")\n",
    "    elif a == b or a == c or b == c:\n",
    "        print(\"Tam giác cân\")\n",
    "    else:\n",
    "        print(\"Tam giác thường\")\n"
   ]
  },
  {
   "cell_type": "code",
   "execution_count": 12,
   "id": "18417ab0",
   "metadata": {},
   "outputs": [
    {
     "name": "stdout",
     "output_type": "stream",
     "text": [
      "Nghiệm của phương trình: -0.5\n"
     ]
    }
   ],
   "source": [
    "#W3A14\n",
    "a = float(input(\"nhập vào số a\"))\n",
    "b = float(input(\"nhập vào số b\"))\n",
    "if a==0 and b==0:\n",
    "    print(\"vô số nghiệm\")\n",
    "elif a==0 and b!=0:\n",
    "    print(\"vô nghiệm\")\n",
    "else:\n",
    "    x=-b/a\n",
    "    print(\"Nghiệm của phương trình:\",round(x,2))\n"
   ]
  },
  {
   "cell_type": "code",
   "execution_count": 14,
   "id": "b3e79593",
   "metadata": {},
   "outputs": [
    {
     "name": "stdout",
     "output_type": "stream",
     "text": [
      "giỏi\n"
     ]
    }
   ],
   "source": [
    "#W3A15\n",
    "a=float(input(\"nhập số điểm:\"))\n",
    "if 10>=a>=8.0:\n",
    "    print(\"giỏi\")\n",
    "elif 8.0>=a>=6.5:\n",
    "    print(\"khá\")\n",
    "elif 6.5>=a>=5.0:\n",
    "    print(\"trung bình\")\n",
    "else:\n",
    "    print(\"yếu\")"
   ]
  },
  {
   "cell_type": "code",
   "execution_count": 18,
   "id": "2dfb7027",
   "metadata": {},
   "outputs": [
    {
     "name": "stdout",
     "output_type": "stream",
     "text": [
      "4 4 4\n"
     ]
    }
   ],
   "source": [
    "#W3A16\n",
    "x = float(input(\"Nhập một số thực: \"))\n",
    "nguyen = int(x)\n",
    "if x >= 0:\n",
    "    tron_xuong = nguyen\n",
    "else:\n",
    "    tron_xuong = nguyen - (x != nguyen)\n",
    "if x > 0 and x != nguyen:\n",
    "    tron_len = nguyen + 1\n",
    "else:\n",
    "    tron_len = nguyen\n",
    "phan_thap_phan = x - nguyen\n",
    "if x >= 0:\n",
    "    tron_gan_nhat = nguyen + (phan_thap_phan >= 0.5)\n",
    "else:\n",
    "    tron_gan_nhat = nguyen - (phan_thap_phan <= -0.5)\n",
    "\n",
    "print(tron_len, tron_xuong, tron_gan_nhat)"
   ]
  },
  {
   "cell_type": "code",
   "execution_count": 24,
   "id": "2a38b3ed",
   "metadata": {},
   "outputs": [
    {
     "name": "stdout",
     "output_type": "stream",
     "text": [
      "Không phải là cấp số nhân\n"
     ]
    }
   ],
   "source": [
    "#W3A17\n",
    "a=int(input(\"số a:\"))\n",
    "b=int(input(\"số b\"))\n",
    "c=int(input(\"số c:\"))\n",
    "d=int(input(\"số d:\"))\n",
    "x=b/a\n",
    "if b == a * x and c == b * x and d == c * x:\n",
    "    print(a, b, c, d)\n",
    "else:\n",
    "    print(\"Không phải là cấp số nhân\")"
   ]
  }
 ],
 "metadata": {
  "kernelspec": {
   "display_name": "Python 3",
   "language": "python",
   "name": "python3"
  },
  "language_info": {
   "codemirror_mode": {
    "name": "ipython",
    "version": 3
   },
   "file_extension": ".py",
   "mimetype": "text/x-python",
   "name": "python",
   "nbconvert_exporter": "python",
   "pygments_lexer": "ipython3",
   "version": "3.11.9"
  }
 },
 "nbformat": 4,
 "nbformat_minor": 5
}
